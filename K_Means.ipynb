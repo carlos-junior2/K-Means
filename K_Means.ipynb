{
  "nbformat": 4,
  "nbformat_minor": 0,
  "metadata": {
    "colab": {
      "provenance": [],
      "collapsed_sections": [
        "o-bxOr0kZw9b",
        "RU-oUXZqgZBP",
        "90_J1bA6ajY_",
        "FIeZu6JXlTop",
        "JzpRoLHVoHZ2",
        "rBsIJPKToNPI"
      ],
      "mount_file_id": "1FA_3XhvZLz3k0Vrify4-LGsKHE0dQpzL",
      "authorship_tag": "ABX9TyOXQyCrDcrixPec0rjX0hg1",
      "include_colab_link": true
    },
    "kernelspec": {
      "name": "python3",
      "display_name": "Python 3"
    },
    "language_info": {
      "name": "python"
    }
  },
  "cells": [
    {
      "cell_type": "markdown",
      "metadata": {
        "id": "view-in-github",
        "colab_type": "text"
      },
      "source": [
        "<a href=\"https://colab.research.google.com/github/carlos-junior2/K-Means/blob/main/K_Means.ipynb\" target=\"_parent\"><img src=\"https://colab.research.google.com/assets/colab-badge.svg\" alt=\"Open In Colab\"/></a>"
      ]
    },
    {
      "cell_type": "markdown",
      "source": [
        "\n",
        "# Implementação (Hardcore)"
      ],
      "metadata": {
        "id": "kcdK2h5EYbvQ"
      }
    },
    {
      "cell_type": "markdown",
      "source": [
        "## Preparando o ambiente"
      ],
      "metadata": {
        "id": "o-bxOr0kZw9b"
      }
    },
    {
      "cell_type": "markdown",
      "source": [
        "Importando bibliotecas"
      ],
      "metadata": {
        "id": "RcZ_ia5zZ1A4"
      }
    },
    {
      "cell_type": "code",
      "source": [
        "import matplotlib.pyplot as plt\n",
        "from google.colab import drive\n",
        "import pandas as pd\n",
        "import numpy as np\n",
        "import random\n",
        "import io\n",
        "from sklearn.metrics import silhouette_score"
      ],
      "metadata": {
        "id": "EE-ARE76ZrnK"
      },
      "execution_count": null,
      "outputs": []
    },
    {
      "cell_type": "markdown",
      "source": [
        "Carregando o dataset"
      ],
      "metadata": {
        "id": "uASEnvsCaWl-"
      }
    },
    {
      "cell_type": "code",
      "source": [
        "drive.mount('/content/drive')"
      ],
      "metadata": {
        "id": "kghlHuQUSUaL",
        "colab": {
          "base_uri": "https://localhost:8080/"
        },
        "outputId": "6250a7e5-3609-41c0-ba35-226bb8eb5322"
      },
      "execution_count": null,
      "outputs": [
        {
          "output_type": "stream",
          "name": "stdout",
          "text": [
            "Drive already mounted at /content/drive; to attempt to forcibly remount, call drive.mount(\"/content/drive\", force_remount=True).\n"
          ]
        }
      ]
    },
    {
      "cell_type": "markdown",
      "source": [
        "## Organizando os dados"
      ],
      "metadata": {
        "id": "RU-oUXZqgZBP"
      }
    },
    {
      "cell_type": "code",
      "source": [
        "iris = pd.read_csv('/content/drive/MyDrive/Colab Notebooks/K-Means/Iris.csv')\n",
        "df = pd.DataFrame(iris)\n",
        "df = df.rename(columns={'SepalWidthCm': 'y', 'PetalLengthCm': 'x'})\n",
        "df.head()"
      ],
      "metadata": {
        "id": "KQydNfksfHNC",
        "colab": {
          "base_uri": "https://localhost:8080/",
          "height": 206
        },
        "outputId": "c466b52c-0319-4945-b624-dfe891ff756a",
        "collapsed": true
      },
      "execution_count": null,
      "outputs": [
        {
          "output_type": "execute_result",
          "data": {
            "text/plain": [
              "   Id  SepalLengthCm    y    x  PetalWidthCm      Species\n",
              "0   1            5.1  3.5  1.4           0.2  Iris-setosa\n",
              "1   2            4.9  3.0  1.4           0.2  Iris-setosa\n",
              "2   3            4.7  3.2  1.3           0.2  Iris-setosa\n",
              "3   4            4.6  3.1  1.5           0.2  Iris-setosa\n",
              "4   5            5.0  3.6  1.4           0.2  Iris-setosa"
            ],
            "text/html": [
              "\n",
              "  <div id=\"df-039684f4-160c-4abe-aad5-fc26d6e2b076\" class=\"colab-df-container\">\n",
              "    <div>\n",
              "<style scoped>\n",
              "    .dataframe tbody tr th:only-of-type {\n",
              "        vertical-align: middle;\n",
              "    }\n",
              "\n",
              "    .dataframe tbody tr th {\n",
              "        vertical-align: top;\n",
              "    }\n",
              "\n",
              "    .dataframe thead th {\n",
              "        text-align: right;\n",
              "    }\n",
              "</style>\n",
              "<table border=\"1\" class=\"dataframe\">\n",
              "  <thead>\n",
              "    <tr style=\"text-align: right;\">\n",
              "      <th></th>\n",
              "      <th>Id</th>\n",
              "      <th>SepalLengthCm</th>\n",
              "      <th>y</th>\n",
              "      <th>x</th>\n",
              "      <th>PetalWidthCm</th>\n",
              "      <th>Species</th>\n",
              "    </tr>\n",
              "  </thead>\n",
              "  <tbody>\n",
              "    <tr>\n",
              "      <th>0</th>\n",
              "      <td>1</td>\n",
              "      <td>5.1</td>\n",
              "      <td>3.5</td>\n",
              "      <td>1.4</td>\n",
              "      <td>0.2</td>\n",
              "      <td>Iris-setosa</td>\n",
              "    </tr>\n",
              "    <tr>\n",
              "      <th>1</th>\n",
              "      <td>2</td>\n",
              "      <td>4.9</td>\n",
              "      <td>3.0</td>\n",
              "      <td>1.4</td>\n",
              "      <td>0.2</td>\n",
              "      <td>Iris-setosa</td>\n",
              "    </tr>\n",
              "    <tr>\n",
              "      <th>2</th>\n",
              "      <td>3</td>\n",
              "      <td>4.7</td>\n",
              "      <td>3.2</td>\n",
              "      <td>1.3</td>\n",
              "      <td>0.2</td>\n",
              "      <td>Iris-setosa</td>\n",
              "    </tr>\n",
              "    <tr>\n",
              "      <th>3</th>\n",
              "      <td>4</td>\n",
              "      <td>4.6</td>\n",
              "      <td>3.1</td>\n",
              "      <td>1.5</td>\n",
              "      <td>0.2</td>\n",
              "      <td>Iris-setosa</td>\n",
              "    </tr>\n",
              "    <tr>\n",
              "      <th>4</th>\n",
              "      <td>5</td>\n",
              "      <td>5.0</td>\n",
              "      <td>3.6</td>\n",
              "      <td>1.4</td>\n",
              "      <td>0.2</td>\n",
              "      <td>Iris-setosa</td>\n",
              "    </tr>\n",
              "  </tbody>\n",
              "</table>\n",
              "</div>\n",
              "    <div class=\"colab-df-buttons\">\n",
              "\n",
              "  <div class=\"colab-df-container\">\n",
              "    <button class=\"colab-df-convert\" onclick=\"convertToInteractive('df-039684f4-160c-4abe-aad5-fc26d6e2b076')\"\n",
              "            title=\"Convert this dataframe to an interactive table.\"\n",
              "            style=\"display:none;\">\n",
              "\n",
              "  <svg xmlns=\"http://www.w3.org/2000/svg\" height=\"24px\" viewBox=\"0 -960 960 960\">\n",
              "    <path d=\"M120-120v-720h720v720H120Zm60-500h600v-160H180v160Zm220 220h160v-160H400v160Zm0 220h160v-160H400v160ZM180-400h160v-160H180v160Zm440 0h160v-160H620v160ZM180-180h160v-160H180v160Zm440 0h160v-160H620v160Z\"/>\n",
              "  </svg>\n",
              "    </button>\n",
              "\n",
              "  <style>\n",
              "    .colab-df-container {\n",
              "      display:flex;\n",
              "      gap: 12px;\n",
              "    }\n",
              "\n",
              "    .colab-df-convert {\n",
              "      background-color: #E8F0FE;\n",
              "      border: none;\n",
              "      border-radius: 50%;\n",
              "      cursor: pointer;\n",
              "      display: none;\n",
              "      fill: #1967D2;\n",
              "      height: 32px;\n",
              "      padding: 0 0 0 0;\n",
              "      width: 32px;\n",
              "    }\n",
              "\n",
              "    .colab-df-convert:hover {\n",
              "      background-color: #E2EBFA;\n",
              "      box-shadow: 0px 1px 2px rgba(60, 64, 67, 0.3), 0px 1px 3px 1px rgba(60, 64, 67, 0.15);\n",
              "      fill: #174EA6;\n",
              "    }\n",
              "\n",
              "    .colab-df-buttons div {\n",
              "      margin-bottom: 4px;\n",
              "    }\n",
              "\n",
              "    [theme=dark] .colab-df-convert {\n",
              "      background-color: #3B4455;\n",
              "      fill: #D2E3FC;\n",
              "    }\n",
              "\n",
              "    [theme=dark] .colab-df-convert:hover {\n",
              "      background-color: #434B5C;\n",
              "      box-shadow: 0px 1px 3px 1px rgba(0, 0, 0, 0.15);\n",
              "      filter: drop-shadow(0px 1px 2px rgba(0, 0, 0, 0.3));\n",
              "      fill: #FFFFFF;\n",
              "    }\n",
              "  </style>\n",
              "\n",
              "    <script>\n",
              "      const buttonEl =\n",
              "        document.querySelector('#df-039684f4-160c-4abe-aad5-fc26d6e2b076 button.colab-df-convert');\n",
              "      buttonEl.style.display =\n",
              "        google.colab.kernel.accessAllowed ? 'block' : 'none';\n",
              "\n",
              "      async function convertToInteractive(key) {\n",
              "        const element = document.querySelector('#df-039684f4-160c-4abe-aad5-fc26d6e2b076');\n",
              "        const dataTable =\n",
              "          await google.colab.kernel.invokeFunction('convertToInteractive',\n",
              "                                                    [key], {});\n",
              "        if (!dataTable) return;\n",
              "\n",
              "        const docLinkHtml = 'Like what you see? Visit the ' +\n",
              "          '<a target=\"_blank\" href=https://colab.research.google.com/notebooks/data_table.ipynb>data table notebook</a>'\n",
              "          + ' to learn more about interactive tables.';\n",
              "        element.innerHTML = '';\n",
              "        dataTable['output_type'] = 'display_data';\n",
              "        await google.colab.output.renderOutput(dataTable, element);\n",
              "        const docLink = document.createElement('div');\n",
              "        docLink.innerHTML = docLinkHtml;\n",
              "        element.appendChild(docLink);\n",
              "      }\n",
              "    </script>\n",
              "  </div>\n",
              "\n",
              "\n",
              "<div id=\"df-cdb83417-defd-492c-9862-1bff82e1516b\">\n",
              "  <button class=\"colab-df-quickchart\" onclick=\"quickchart('df-cdb83417-defd-492c-9862-1bff82e1516b')\"\n",
              "            title=\"Suggest charts\"\n",
              "            style=\"display:none;\">\n",
              "\n",
              "<svg xmlns=\"http://www.w3.org/2000/svg\" height=\"24px\"viewBox=\"0 0 24 24\"\n",
              "     width=\"24px\">\n",
              "    <g>\n",
              "        <path d=\"M19 3H5c-1.1 0-2 .9-2 2v14c0 1.1.9 2 2 2h14c1.1 0 2-.9 2-2V5c0-1.1-.9-2-2-2zM9 17H7v-7h2v7zm4 0h-2V7h2v10zm4 0h-2v-4h2v4z\"/>\n",
              "    </g>\n",
              "</svg>\n",
              "  </button>\n",
              "\n",
              "<style>\n",
              "  .colab-df-quickchart {\n",
              "      --bg-color: #E8F0FE;\n",
              "      --fill-color: #1967D2;\n",
              "      --hover-bg-color: #E2EBFA;\n",
              "      --hover-fill-color: #174EA6;\n",
              "      --disabled-fill-color: #AAA;\n",
              "      --disabled-bg-color: #DDD;\n",
              "  }\n",
              "\n",
              "  [theme=dark] .colab-df-quickchart {\n",
              "      --bg-color: #3B4455;\n",
              "      --fill-color: #D2E3FC;\n",
              "      --hover-bg-color: #434B5C;\n",
              "      --hover-fill-color: #FFFFFF;\n",
              "      --disabled-bg-color: #3B4455;\n",
              "      --disabled-fill-color: #666;\n",
              "  }\n",
              "\n",
              "  .colab-df-quickchart {\n",
              "    background-color: var(--bg-color);\n",
              "    border: none;\n",
              "    border-radius: 50%;\n",
              "    cursor: pointer;\n",
              "    display: none;\n",
              "    fill: var(--fill-color);\n",
              "    height: 32px;\n",
              "    padding: 0;\n",
              "    width: 32px;\n",
              "  }\n",
              "\n",
              "  .colab-df-quickchart:hover {\n",
              "    background-color: var(--hover-bg-color);\n",
              "    box-shadow: 0 1px 2px rgba(60, 64, 67, 0.3), 0 1px 3px 1px rgba(60, 64, 67, 0.15);\n",
              "    fill: var(--button-hover-fill-color);\n",
              "  }\n",
              "\n",
              "  .colab-df-quickchart-complete:disabled,\n",
              "  .colab-df-quickchart-complete:disabled:hover {\n",
              "    background-color: var(--disabled-bg-color);\n",
              "    fill: var(--disabled-fill-color);\n",
              "    box-shadow: none;\n",
              "  }\n",
              "\n",
              "  .colab-df-spinner {\n",
              "    border: 2px solid var(--fill-color);\n",
              "    border-color: transparent;\n",
              "    border-bottom-color: var(--fill-color);\n",
              "    animation:\n",
              "      spin 1s steps(1) infinite;\n",
              "  }\n",
              "\n",
              "  @keyframes spin {\n",
              "    0% {\n",
              "      border-color: transparent;\n",
              "      border-bottom-color: var(--fill-color);\n",
              "      border-left-color: var(--fill-color);\n",
              "    }\n",
              "    20% {\n",
              "      border-color: transparent;\n",
              "      border-left-color: var(--fill-color);\n",
              "      border-top-color: var(--fill-color);\n",
              "    }\n",
              "    30% {\n",
              "      border-color: transparent;\n",
              "      border-left-color: var(--fill-color);\n",
              "      border-top-color: var(--fill-color);\n",
              "      border-right-color: var(--fill-color);\n",
              "    }\n",
              "    40% {\n",
              "      border-color: transparent;\n",
              "      border-right-color: var(--fill-color);\n",
              "      border-top-color: var(--fill-color);\n",
              "    }\n",
              "    60% {\n",
              "      border-color: transparent;\n",
              "      border-right-color: var(--fill-color);\n",
              "    }\n",
              "    80% {\n",
              "      border-color: transparent;\n",
              "      border-right-color: var(--fill-color);\n",
              "      border-bottom-color: var(--fill-color);\n",
              "    }\n",
              "    90% {\n",
              "      border-color: transparent;\n",
              "      border-bottom-color: var(--fill-color);\n",
              "    }\n",
              "  }\n",
              "</style>\n",
              "\n",
              "  <script>\n",
              "    async function quickchart(key) {\n",
              "      const quickchartButtonEl =\n",
              "        document.querySelector('#' + key + ' button');\n",
              "      quickchartButtonEl.disabled = true;  // To prevent multiple clicks.\n",
              "      quickchartButtonEl.classList.add('colab-df-spinner');\n",
              "      try {\n",
              "        const charts = await google.colab.kernel.invokeFunction(\n",
              "            'suggestCharts', [key], {});\n",
              "      } catch (error) {\n",
              "        console.error('Error during call to suggestCharts:', error);\n",
              "      }\n",
              "      quickchartButtonEl.classList.remove('colab-df-spinner');\n",
              "      quickchartButtonEl.classList.add('colab-df-quickchart-complete');\n",
              "    }\n",
              "    (() => {\n",
              "      let quickchartButtonEl =\n",
              "        document.querySelector('#df-cdb83417-defd-492c-9862-1bff82e1516b button');\n",
              "      quickchartButtonEl.style.display =\n",
              "        google.colab.kernel.accessAllowed ? 'block' : 'none';\n",
              "    })();\n",
              "  </script>\n",
              "</div>\n",
              "\n",
              "    </div>\n",
              "  </div>\n"
            ],
            "application/vnd.google.colaboratory.intrinsic+json": {
              "type": "dataframe",
              "variable_name": "df",
              "summary": "{\n  \"name\": \"df\",\n  \"rows\": 150,\n  \"fields\": [\n    {\n      \"column\": \"Id\",\n      \"properties\": {\n        \"dtype\": \"number\",\n        \"std\": 43,\n        \"min\": 1,\n        \"max\": 150,\n        \"num_unique_values\": 150,\n        \"samples\": [\n          74,\n          19,\n          119\n        ],\n        \"semantic_type\": \"\",\n        \"description\": \"\"\n      }\n    },\n    {\n      \"column\": \"SepalLengthCm\",\n      \"properties\": {\n        \"dtype\": \"number\",\n        \"std\": 0.8280661279778629,\n        \"min\": 4.3,\n        \"max\": 7.9,\n        \"num_unique_values\": 35,\n        \"samples\": [\n          6.2,\n          4.5,\n          5.6\n        ],\n        \"semantic_type\": \"\",\n        \"description\": \"\"\n      }\n    },\n    {\n      \"column\": \"y\",\n      \"properties\": {\n        \"dtype\": \"number\",\n        \"std\": 0.4335943113621737,\n        \"min\": 2.0,\n        \"max\": 4.4,\n        \"num_unique_values\": 23,\n        \"samples\": [\n          2.3,\n          4.0,\n          3.5\n        ],\n        \"semantic_type\": \"\",\n        \"description\": \"\"\n      }\n    },\n    {\n      \"column\": \"x\",\n      \"properties\": {\n        \"dtype\": \"number\",\n        \"std\": 1.7644204199522617,\n        \"min\": 1.0,\n        \"max\": 6.9,\n        \"num_unique_values\": 43,\n        \"samples\": [\n          6.7,\n          3.8,\n          3.7\n        ],\n        \"semantic_type\": \"\",\n        \"description\": \"\"\n      }\n    },\n    {\n      \"column\": \"PetalWidthCm\",\n      \"properties\": {\n        \"dtype\": \"number\",\n        \"std\": 0.7631607417008414,\n        \"min\": 0.1,\n        \"max\": 2.5,\n        \"num_unique_values\": 22,\n        \"samples\": [\n          0.2,\n          1.2,\n          1.3\n        ],\n        \"semantic_type\": \"\",\n        \"description\": \"\"\n      }\n    },\n    {\n      \"column\": \"Species\",\n      \"properties\": {\n        \"dtype\": \"category\",\n        \"num_unique_values\": 3,\n        \"samples\": [\n          \"Iris-setosa\",\n          \"Iris-versicolor\",\n          \"Iris-virginica\"\n        ],\n        \"semantic_type\": \"\",\n        \"description\": \"\"\n      }\n    }\n  ]\n}"
            }
          },
          "metadata": {},
          "execution_count": 4
        }
      ]
    },
    {
      "cell_type": "markdown",
      "source": [
        "Salva as colunas específicas do csv em uma lista"
      ],
      "metadata": {
        "id": "38iBiKqDhWZY"
      }
    },
    {
      "cell_type": "code",
      "source": [
        "# Selecionando as features 'x' e 'y' para o k-means\n",
        "X = df[['x', 'y']].values.tolist()"
      ],
      "metadata": {
        "id": "OEBKR1h-FJ2h"
      },
      "execution_count": null,
      "outputs": []
    },
    {
      "cell_type": "markdown",
      "source": [
        "## Funções independentes"
      ],
      "metadata": {
        "id": "90_J1bA6ajY_"
      }
    },
    {
      "cell_type": "markdown",
      "source": [
        "\n",
        "Realiza o cálculo da distancia euclidiana.\n",
        "\n",
        "\\begin{align}\n",
        "        \\text{} d(x,y)= &\\sqrt{\\sum_{i=0}^n (xi-yi)^2 }    \\\\[1em]\n",
        "\\end{align}\n",
        "\n"
      ],
      "metadata": {
        "id": "De4fX9VsarWX"
      }
    },
    {
      "cell_type": "code",
      "source": [
        "def distEuclid (ponto1, ponto2):\n",
        "  return (((ponto1.get('x') - ponto2.get('x'))**2 + (ponto1.get('y') - ponto2.get('y'))**2)**0.5)"
      ],
      "metadata": {
        "id": "RSPAgga_aiJI"
      },
      "execution_count": null,
      "outputs": []
    },
    {
      "cell_type": "markdown",
      "source": [
        "Pontos para teste da função distEuclid()"
      ],
      "metadata": {
        "id": "jtq2NT8ahohp"
      }
    },
    {
      "cell_type": "code",
      "source": [
        "ponto1 = {'x': 2, 'y': 5}\n",
        "ponto2 = {'x': 3, 'y': 4}\n",
        "distEuclid(ponto1, ponto2)"
      ],
      "metadata": {
        "id": "LOpQZTNGhmTK",
        "colab": {
          "base_uri": "https://localhost:8080/"
        },
        "outputId": "5af181f1-d520-4d79-af80-dbfef2fc487a"
      },
      "execution_count": null,
      "outputs": [
        {
          "output_type": "execute_result",
          "data": {
            "text/plain": [
              "1.4142135623730951"
            ]
          },
          "metadata": {},
          "execution_count": 10
        }
      ]
    },
    {
      "cell_type": "markdown",
      "source": [
        "Seleciona aleatoriamente k pontos como centróides iniciais."
      ],
      "metadata": {
        "id": "A4q1fTUegsJ4"
      }
    },
    {
      "cell_type": "code",
      "source": [
        "def inicializa_centroides(dados, k):\n",
        "    indices_centroides = random.sample(range(len(dados)), k)\n",
        "    centroides = [dados[i] for i in indices_centroides]\n",
        "    return centroides"
      ],
      "metadata": {
        "id": "BHKQoND6g2OO"
      },
      "execution_count": null,
      "outputs": []
    },
    {
      "cell_type": "markdown",
      "source": [
        "Atribui cada ponto de dados ao centróide mais próximo."
      ],
      "metadata": {
        "id": "Cp4NA_vEhD3H"
      }
    },
    {
      "cell_type": "code",
      "source": [
        "def atribui_clusters(dados, centroides):\n",
        "    clusters = []\n",
        "    for ponto in dados:\n",
        "        distancias = [np.linalg.norm(np.array(ponto) - np.array(centroide)) for centroide in centroides]\n",
        "        indice_cluster = distancias.index(min(distancias))\n",
        "        clusters.append(indice_cluster)\n",
        "    return clusters"
      ],
      "metadata": {
        "id": "GfbwYfhQg_Pk"
      },
      "execution_count": null,
      "outputs": []
    },
    {
      "cell_type": "markdown",
      "source": [
        "Calcula os novos centróides com base nas atribuições atuais dos clusters."
      ],
      "metadata": {
        "id": "TSTBbDKahSSk"
      }
    },
    {
      "cell_type": "code",
      "source": [
        "def atualiza_centroides(dados, clusters, k):\n",
        "    centroides = [[] for _ in range(k)]\n",
        "    for i, ponto in enumerate(dados):\n",
        "        indice_cluster = clusters[i]\n",
        "        centroides[indice_cluster].append(ponto)\n",
        "\n",
        "    novos_centroides = []\n",
        "    for pontos_cluster in centroides:\n",
        "        if pontos_cluster:\n",
        "            novos_centroides.append(np.mean(pontos_cluster, axis=0).tolist())\n",
        "        else:\n",
        "            # Se um cluster estiver vazio, mantenha o centróide anterior\n",
        "            novos_centroides.append(centroides[centroides.index(pontos_cluster)])\n",
        "\n",
        "    return novos_centroides"
      ],
      "metadata": {
        "id": "j3U3Sqv7hNxW"
      },
      "execution_count": null,
      "outputs": []
    },
    {
      "cell_type": "markdown",
      "source": [
        "Executa a clusterização k-means."
      ],
      "metadata": {
        "id": "ezSx8YoRjO-z"
      }
    },
    {
      "cell_type": "code",
      "source": [
        "def kmeans(dados, k, max_iteracoes=100):\n",
        "    centroides = inicializa_centroides(dados, k)\n",
        "    for _ in range(max_iteracoes):\n",
        "        clusters = atribui_clusters(dados, centroides)\n",
        "        novos_centroides = atualiza_centroides(dados, clusters, k)\n",
        "        if novos_centroides == centroides:\n",
        "            break  # Para se os centróides não mudarem\n",
        "        centroides = novos_centroides\n",
        "    return clusters, centroides"
      ],
      "metadata": {
        "id": "uuC7EbXUjLua"
      },
      "execution_count": null,
      "outputs": []
    },
    {
      "cell_type": "markdown",
      "source": [
        "## Executando o K-means"
      ],
      "metadata": {
        "id": "FIeZu6JXlTop"
      }
    },
    {
      "cell_type": "markdown",
      "source": [
        "### Para k = 3"
      ],
      "metadata": {
        "id": "JzpRoLHVoHZ2"
      }
    },
    {
      "cell_type": "code",
      "source": [
        "# Aplicando o k-means\n",
        "k = 3  # Número de clusters\n",
        "clusters, centroids = kmeans(X, k)\n",
        "\n",
        "# Adicionando a coluna 'cluster' ao DataFrame original\n",
        "df['cluster'] = clusters"
      ],
      "metadata": {
        "id": "duLYb3FulfAR"
      },
      "execution_count": null,
      "outputs": []
    },
    {
      "cell_type": "code",
      "source": [
        "plt.scatter(df['x'], df['y'], c=df['cluster'], cmap='viridis')\n",
        "plt.scatter([c[0] for c in centroids], [c[1] for c in centroids], marker='x', s=200, c='red') # Centróides\n",
        "plt.xlabel('PetalLengthCm (x)')\n",
        "plt.ylabel('SepalWidthCm (y)')\n",
        "plt.title('Clusters do K-Means no Dataset Iris k = 3')\n",
        "plt.show()"
      ],
      "metadata": {
        "colab": {
          "base_uri": "https://localhost:8080/",
          "height": 472
        },
        "id": "AIDtQVNdlX4C",
        "outputId": "e34a8726-0581-4c3b-d9c8-ba353ecd6d03"
      },
      "execution_count": null,
      "outputs": [
        {
          "output_type": "display_data",
          "data": {
            "text/plain": [
              "<Figure size 640x480 with 1 Axes>"
            ],
            "image/png": "[encoded data removed]"
          },
          "metadata": {}
        }
      ]
    },
    {
      "cell_type": "markdown",
      "source": [
        "`Cálculo do Silhouette Score para k = 3`\n"
      ],
      "metadata": {
        "id": "eY_pc-sRnOAz"
      }
    },
    {
      "cell_type": "code",
      "source": [
        "score = silhouette_score(X, clusters)\n",
        "print(f\"Silhouette Score: {score}\")"
      ],
      "metadata": {
        "colab": {
          "base_uri": "https://localhost:8080/"
        },
        "id": "3_WMaFzWnTtN",
        "outputId": "4fb743e6-06d0-4450-c2ed-083aa5f2cee6"
      },
      "execution_count": null,
      "outputs": [
        {
          "output_type": "stream",
          "name": "stdout",
          "text": [
            "Silhouette Score: 0.5927879860885196\n"
          ]
        }
      ]
    },
    {
      "cell_type": "markdown",
      "source": [
        "### Para k = 5"
      ],
      "metadata": {
        "id": "rBsIJPKToNPI"
      }
    },
    {
      "cell_type": "code",
      "source": [
        "# Aplicando o k-means\n",
        "k = 5  # Número de clusters\n",
        "clusters, centroids = kmeans(X, k)\n",
        "\n",
        "# Adicionando a coluna 'cluster' ao DataFrame original\n",
        "df['cluster'] = clusters"
      ],
      "metadata": {
        "id": "T_76vbrxoNPJ"
      },
      "execution_count": null,
      "outputs": []
    },
    {
      "cell_type": "code",
      "source": [
        "plt.scatter(df['x'], df['y'], c=df['cluster'], cmap='viridis')\n",
        "plt.scatter([c[0] for c in centroids], [c[1] for c in centroids], marker='x', s=200, c='red') # Centróides\n",
        "plt.xlabel('PetalLengthCm (x)')\n",
        "plt.ylabel('SepalWidthCm (y)')\n",
        "plt.title('Clusters do K-Means no Dataset Iris k = 5')\n",
        "plt.show()"
      ],
      "metadata": {
        "colab": {
          "base_uri": "https://localhost:8080/",
          "height": 472
        },
        "outputId": "a991ca41-410d-40b9-a4de-c87c44331d8e",
        "id": "venmpk7FoNPK"
      },
      "execution_count": null,
      "outputs": [
        {
          "output_type": "display_data",
          "data": {
            "text/plain": [
              "<Figure size 640x480 with 1 Axes>"
            ],
            "image/png": "[encoded data removed]"
          },
          "metadata": {}
        }
      ]
    },
    {
      "cell_type": "markdown",
      "source": [
        "`Cálculo do Silhouette Score para k = 5`"
      ],
      "metadata": {
        "id": "QC6td54IoNPL"
      }
    },
    {
      "cell_type": "code",
      "source": [
        "score = silhouette_score(X, clusters)\n",
        "print(f\"Silhouette Score: {score}\")"
      ],
      "metadata": {
        "colab": {
          "base_uri": "https://localhost:8080/"
        },
        "outputId": "ce633fe4-b9ff-4b19-b250-2f98731bf11a",
        "id": "ws5HrK76oNPM"
      },
      "execution_count": null,
      "outputs": [
        {
          "output_type": "stream",
          "name": "stdout",
          "text": [
            "Silhouette Score: 0.4445714299495147\n"
          ]
        }
      ]
    }
  ]
}